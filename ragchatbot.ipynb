{
 "cells": [
  {
   "cell_type": "code",
   "execution_count": 1,
   "id": "83ef7c69-1112-45d9-ae36-283a48bf64bf",
   "metadata": {},
   "outputs": [
    {
     "name": "stdout",
     "output_type": "stream",
     "text": [
      "Import Successful\n"
     ]
    }
   ],
   "source": [
    "from sentence_transformers import SentenceTransformer\n",
    "import os\n",
    "from qdrant_client import QdrantClient, models\n",
    "import numpy\n",
    "from typing import List, Dict, Any\n",
    "import uuid\n",
    "from dotenv import load_dotenv\n",
    "from transformers import AutoModelForCausalLM, AutoTokenizer\n",
    "import torch\n",
    "print(\"Import Successful\")"
   ]
  },
  {
   "cell_type": "code",
   "execution_count": 2,
   "id": "df08382a-2b4d-440e-ae30-ecf81347b843",
   "metadata": {},
   "outputs": [
    {
     "data": {
      "text/plain": [
       "True"
      ]
     },
     "execution_count": 2,
     "metadata": {},
     "output_type": "execute_result"
    }
   ],
   "source": [
    "load_dotenv()"
   ]
  },
  {
   "cell_type": "code",
   "execution_count": 3,
   "id": "8f83f321-46dd-4a22-80e6-cb793c0f21c6",
   "metadata": {},
   "outputs": [],
   "source": [
    "def setup_qdrant_client():\n",
    "    \"\"\"Initialize the Qdrant client with credentials from .env file\"\"\"\n",
    "    return QdrantClient(\n",
    "        url=os.environ.get(\"QDRANT_URL\"), \n",
    "        api_key=os.environ.get(\"QDRANT_API_KEY\"),\n",
    "    )"
   ]
  },
  {
   "cell_type": "code",
   "execution_count": 8,
   "id": "ded46c4e-141e-4680-950c-488861606334",
   "metadata": {},
   "outputs": [],
   "source": [
    "qdrant_client = setup_qdrant_client()"
   ]
  },
  {
   "cell_type": "code",
   "execution_count": 4,
   "id": "d9c80e06-395c-467c-a9f4-091b33013a1e",
   "metadata": {},
   "outputs": [],
   "source": [
    "def get_query_embedding(query: str):\n",
    "    return embedding_model.encode(query).tolist()\n",
    "\n",
    "def retrieve_relevant_chunks(query: str, top_k: int = 5):\n",
    "    query_vector = get_query_embedding(query)\n",
    "\n",
    "    search_result = qdrant_client.query_points(\n",
    "        collection_name=\"ragchatbot_standard\",\n",
    "        query=query_vector,\n",
    "        limit=5,\n",
    "        with_payload=True\n",
    "    )\n",
    "\n",
    "    all_chunk_texts = []\n",
    "    for _, scored_points in search_result:\n",
    "        for point in scored_points:\n",
    "            chunk_text = point.payload.get(\"chunk_text\", \"\")\n",
    "            all_chunk_texts.append(chunk_text)\n",
    "    \n",
    "    # Remove duplicates while preserving order\n",
    "    unique_chunk_texts = list(dict.fromkeys(all_chunk_texts))\n",
    "    \n",
    "    # Join into a context string\n",
    "    context = \"\\n\\n\".join(unique_chunk_texts)\n",
    "    return context\n",
    "\n",
    "def build_prompt(context, question):\n",
    "    return f\"\"\"You are a helpful assistant. Answer the question using only the context provided.\n",
    "\n",
    "Context:\n",
    "{context}\n",
    "\n",
    "Question:\n",
    "{question}\n",
    "\"\"\"\n",
    "\n",
    "def generate_answer(prompt, max_tokens=300):\n",
    "    inputs = tokenizer(prompt, return_tensors=\"pt\")\n",
    "    with torch.no_grad():\n",
    "        outputs = model.generate(\n",
    "            **inputs,\n",
    "            max_new_tokens=max_tokens,\n",
    "            do_sample=True,\n",
    "            temperature=0.7,\n",
    "            top_k=50,\n",
    "            top_p=0.95\n",
    "        )\n",
    "    return tokenizer.decode(outputs[0], skip_special_tokens=True)"
   ]
  },
  {
   "cell_type": "code",
   "execution_count": 5,
   "id": "e222c27e-48c9-4e01-ab31-c6cb90790ed4",
   "metadata": {},
   "outputs": [
    {
     "data": {
      "application/vnd.jupyter.widget-view+json": {
       "model_id": "223a50c177814074bc661287657759e3",
       "version_major": 2,
       "version_minor": 0
      },
      "text/plain": [
       "Loading checkpoint shards:   0%|          | 0/2 [00:00<?, ?it/s]"
      ]
     },
     "metadata": {},
     "output_type": "display_data"
    },
    {
     "data": {
      "text/plain": [
       "PhiForCausalLM(\n",
       "  (model): PhiModel(\n",
       "    (embed_tokens): Embedding(51200, 2560)\n",
       "    (layers): ModuleList(\n",
       "      (0-31): 32 x PhiDecoderLayer(\n",
       "        (self_attn): PhiAttention(\n",
       "          (q_proj): Linear(in_features=2560, out_features=2560, bias=True)\n",
       "          (k_proj): Linear(in_features=2560, out_features=2560, bias=True)\n",
       "          (v_proj): Linear(in_features=2560, out_features=2560, bias=True)\n",
       "          (dense): Linear(in_features=2560, out_features=2560, bias=True)\n",
       "        )\n",
       "        (mlp): PhiMLP(\n",
       "          (activation_fn): NewGELUActivation()\n",
       "          (fc1): Linear(in_features=2560, out_features=10240, bias=True)\n",
       "          (fc2): Linear(in_features=10240, out_features=2560, bias=True)\n",
       "        )\n",
       "        (input_layernorm): LayerNorm((2560,), eps=1e-05, elementwise_affine=True)\n",
       "        (resid_dropout): Dropout(p=0.1, inplace=False)\n",
       "      )\n",
       "    )\n",
       "    (rotary_emb): PhiRotaryEmbedding()\n",
       "    (embed_dropout): Dropout(p=0.0, inplace=False)\n",
       "    (final_layernorm): LayerNorm((2560,), eps=1e-05, elementwise_affine=True)\n",
       "  )\n",
       "  (lm_head): Linear(in_features=2560, out_features=51200, bias=True)\n",
       ")"
      ]
     },
     "execution_count": 5,
     "metadata": {},
     "output_type": "execute_result"
    }
   ],
   "source": [
    "model_id = \"microsoft/phi-2\"\n",
    "\n",
    "tokenizer = AutoTokenizer.from_pretrained(model_id)\n",
    "model = AutoModelForCausalLM.from_pretrained(model_id, torch_dtype=torch.float32)\n",
    "model.eval()\n"
   ]
  },
  {
   "cell_type": "code",
   "execution_count": 6,
   "id": "1cff1f82-4662-46ae-acf2-502084ff88a8",
   "metadata": {},
   "outputs": [],
   "source": [
    "embedding_model = SentenceTransformer(\"all-MiniLM-L6-v2\")\n"
   ]
  },
  {
   "cell_type": "code",
   "execution_count": 9,
   "id": "baa2e355-bfdc-45e3-8470-193102370524",
   "metadata": {},
   "outputs": [
    {
     "name": "stderr",
     "output_type": "stream",
     "text": [
      "Setting `pad_token_id` to `eos_token_id`:50256 for open-end generation.\n"
     ]
    },
    {
     "name": "stdout",
     "output_type": "stream",
     "text": [
      "🔍 Answer:\n",
      " You are a helpful assistant. Answer the question using only the context provided.\n",
      "\n",
      "Context:\n",
      "Neom, named after “New Future”, is a large-scale futuristic urban development project with US$500 billion in funding from Saudi Arabia’s sovereign wealth fund and will be located in the northwest of the Kingdom of Saudi Arabia (NEOM, n.d. a). Plans for four distinct regions of Neom have been officially revealed thus far with hints and speculation of more to come (Corder, 2023a; Ravenscroft, 2023). Among the four regions is Sindalah, a luxury resort artificial island in the Red Sea featuring attractions such as yachting, golf, luxury retail outlets and is planned to be open in 2024 (Arab News, 2023; NEOM, n.d. b). Marriott International (Marriott), an international powerhouse in the hotel industry with 31 brands and over 8500 properties across the planet, has signed an agreement with NEOM to open 3 hotels in Sindalah (Mitchell, 2023; Tapley, 2023; Arabian Business, 2023). This paper will identify some potential obstacles Marriott may face in this venture.\n",
      "Among the three hotels, two are planned to be part of Marriott’s Luxury Collection with the third being a part of Marriott’s Autograph Collection (Mitchell, 2023; Tapley, 2023). All three hotels are planned to be open in 2024 (Marriott International, 2023). While Marriott is no stranger to building and operating luxury hotels, these hotels in Sindalah will provide some new challenges. \n",
      "Firstly, all importing, manufacturing, possession, and consumption of alcohol is illegal in Saudi Arabia for religious reasons (Fernandez 2023). There are claims and reports that sales of alcohol will be allowed in Sindalah (Jones, 2022; Corder, 2023b) as well as claims that Saudi Arabia will not legalise alcohol for tourists or at NEOM (Nihal, 2022). Many tourists and expatriates enjoy alcohol consumption and may choose to visit/work elsewhere if alcohol is unavailable (Wired, n.d.). With that said, there are also claims by experts in the field that alcohol is not necessary for tourism as the non-alcohol industry has been booming (FII Institute, 2023, 17:10). \n",
      "\n",
      "Marriott International \n",
      "\n",
      "\n",
      "Should Marriott rely too heavily on the Port of NEOM, they will be taking on a big operational risk as any small hiccup in the supply chain could quickly escalate into a major service failure since Marriott is operating not one, but three luxury hotels on a remote island where excellent quality is the bare minimum expectation. With that said Port of NEOM will likely be the most efficient route for Marriott’s supply chains, owing to its close location to Sindalah and cutting-edge technology. In addition, Marriott would also need to be cautious of supply chain disruption at any other step in the process and have contingency plans prepared well in advance.\n",
      "Marriott was chosen for this assessment as their operation in Sindalah can be described as “doing an old task in a new place”. Marriott is not new to operating luxury hotels, yet doing so in Sindalah will still present new challenges even to Marriott. Risk Management and Supply Chains will be especially relevant topics regarding the challenges discussed in this paper. As sustainability is a big topic in NEOM and thus will be expected of Sindalah and Marriott, the Synchronisation and Sustainability topic will likely also be very relevant if a more in-depth analysis were to be undertaken.\n",
      " \n",
      "References\n",
      "Algumzi, A. \n",
      "\n",
      "How Marriott intends to attract both tourists to visit and expatriates to work for them despite the lack of alcohol access will be one of their preliminary challenges and is a design risk that they will face (Irimia-Diéguez et al, 2014). If the rumours that Alcohol consumption will be allowed turn out to be true, Marriott faces a different challenge instead – how can we satisfy both the foreigners who want to consume alcohol and the locals who are against alcohol consumption for religious reasons at the same time? Even if they are not the ones drinking it, religious Muslims may feel uncomfortable if they are surrounded by people drinking alcohol, thus creating a sociocultural risk for Marriott (Algumzi, 2022).\n",
      "Sindalah is an island with no airports. Thus, the only method of delivering any supplies to Sindalah is to go by sea. \n",
      "\n",
      "NEOM: Saudi Arabia announces three new hotels at Sindalah.\n",
      "Retrieved October 10, 2023 from https://www.arabianbusiness.com/industries/travel-hospitality/neom-saudi-arabia-announces-three-new-hotels-at-sindalah\n",
      "Arab News. (2023, August 24). NEOM partners with JLS Yachts as Sindalah island prepares for grand opening.\n",
      "Retrieved October 10, 2023 from https://www.arabnews.com/node/2360831/business-economy\n",
      "Corder, J. (2023a, April 8). \n",
      "\n",
      "Question:\n",
      "tell me about marriott\n",
      "\n",
      "Answer:\n",
      "Marriott International is an international hotel company that operates 31 brands and over 8500 properties across the planet. They have signed an agreement with NEOM to open 3 hotels in Sindalah, a luxury resort artificial island in the Red Sea. The three hotels are planned to be part of Marriott’s Luxury Collection and Autograph Collection, and will be open in 2024. While Marriott is no stranger to building and operating luxury hotels, these hotels in Sindalah will provide some new challenges. One of the main challenges is the lack of alcohol access in Saudi Arabia for religious reasons. This may deter some tourists and expatriates who enjoy alcohol consumption from visiting or working in Sindalah. Marriott will need to find a way to attract both foreigners who want to consume alcohol and locals who are against it. Additionally, Marriott will need to ensure a smooth supply chain operation, as any disruptions at the Port of NEOM could lead to service failures for their luxury hotels. Overall, Marriott's operation in Sindalah requires careful risk management and consideration of sociocultural and sustainability factors.\n",
      "\n"
     ]
    }
   ],
   "source": [
    "query = \"tell me about marriott\"\n",
    "\n",
    "\n",
    "context = retrieve_relevant_chunks(query)\n",
    "prompt = build_prompt(context, query)\n",
    "answer = generate_answer(prompt)\n",
    "\n",
    "print(\"🔍 Answer:\\n\", answer)"
   ]
  },
  {
   "cell_type": "code",
   "execution_count": null,
   "id": "b66dcc04-c15b-4810-a94a-b454f3fb224e",
   "metadata": {},
   "outputs": [],
   "source": []
  }
 ],
 "metadata": {
  "kernelspec": {
   "display_name": "Python 3 (ipykernel)",
   "language": "python",
   "name": "python3"
  },
  "language_info": {
   "codemirror_mode": {
    "name": "ipython",
    "version": 3
   },
   "file_extension": ".py",
   "mimetype": "text/x-python",
   "name": "python",
   "nbconvert_exporter": "python",
   "pygments_lexer": "ipython3",
   "version": "3.13.2"
  }
 },
 "nbformat": 4,
 "nbformat_minor": 5
}
